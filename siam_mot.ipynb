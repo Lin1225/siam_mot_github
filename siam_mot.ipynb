{
  "nbformat": 4,
  "nbformat_minor": 0,
  "metadata": {
    "colab": {
      "name": "siam-mot.ipynb",
      "provenance": [],
      "collapsed_sections": [
        "mnhDH-n_QAnw",
        "B1hlZxatPhpA",
        "-0hfHgvIPmBV",
        "gR9-XFdTlu4Y"
      ],
      "toc_visible": true,
      "mount_file_id": "1jn3ZCVrMyOivlpXs71owIRbYHw9OR2BU",
      "authorship_tag": "ABX9TyONKHs/5AALVhnHViNR6Zlh",
      "include_colab_link": true
    },
    "kernelspec": {
      "name": "python3",
      "display_name": "Python 3"
    },
    "language_info": {
      "name": "python"
    },
    "accelerator": "GPU"
  },
  "cells": [
    {
      "cell_type": "markdown",
      "metadata": {
        "id": "view-in-github",
        "colab_type": "text"
      },
      "source": [
        "<a href=\"https://colab.research.google.com/github/Lin1225/siam_mot_github/blob/main/siam_mot.ipynb\" target=\"_parent\"><img src=\"https://colab.research.google.com/assets/colab-badge.svg\" alt=\"Open In Colab\"/></a>"
      ]
    },
    {
      "cell_type": "markdown",
      "metadata": {
        "id": "mnhDH-n_QAnw"
      },
      "source": [
        "# install"
      ]
    },
    {
      "cell_type": "code",
      "metadata": {
        "id": "hCamRwieJ0bf"
      },
      "source": [
        "!git clone https://github.com/amazon-research/siam-mot.git"
      ],
      "execution_count": null,
      "outputs": []
    },
    {
      "cell_type": "code",
      "metadata": {
        "id": "3-RXS14-L-PG"
      },
      "source": [
        "!pip3 install torch==1.7.1+cu110 torchvision==0.8.2+cu110 -f https://download.pytorch.org/whl/torch_stable.html"
      ],
      "execution_count": null,
      "outputs": []
    },
    {
      "cell_type": "code",
      "metadata": {
        "id": "gpPGjo9-KA85"
      },
      "source": [
        "%cd siam-mot\n",
        "!pip3 install -r requirements.txt"
      ],
      "execution_count": null,
      "outputs": []
    },
    {
      "cell_type": "code",
      "metadata": {
        "id": "h9FWp7ldQDBf"
      },
      "source": [
        "%cd /content/\n",
        "!pip3 install ninja yacs cython matplotlib tqdm opencv-python\n",
        "!git clone https://github.com/cocodataset/cocoapi.git\n",
        "%cd cocoapi/PythonAPI\n",
        "!python3 setup.py build_ext install\n",
        "\n",
        "%cd /content/\n",
        "!git clone https://github.com/mcordts/cityscapesScripts.git\n",
        "%cd cityscapesScripts/\n",
        "!python3 setup.py build_ext install\n",
        "\n",
        "%cd /content/\n",
        "!git clone https://github.com/NVIDIA/apex.git\n",
        "%cd apex\n",
        "!python3 setup.py install --cuda_ext --cpp_ext\n",
        "\n",
        "# %cd /content/\n",
        "# !git clone https://github.com/facebookresearch/maskrcnn-benchmark.git\n",
        "# %cd maskrcnn-benchmark\n",
        "# !python3 setup.py build develop\n"
      ],
      "execution_count": null,
      "outputs": []
    },
    {
      "cell_type": "code",
      "metadata": {
        "id": "-sxV9myDQ9ee"
      },
      "source": [
        "%cd /content/\n",
        "!git clone https://github.com/facebookresearch/maskrcnn-benchmark.git\n",
        "\n",
        "%cd maskrcnn-benchmark\n",
        "!perl -i -pe 's/AT_CHECK/TORCH_CHECK/' $\"maskrcnn_benchmark/csrc/cuda\"/deform_pool_cuda.cu $\"maskrcnn_benchmark/csrc/cuda\"/deform_conv_cuda.cu\n",
        "!python3 setup.py build develop\n"
      ],
      "execution_count": null,
      "outputs": []
    },
    {
      "cell_type": "code",
      "metadata": {
        "id": "aMY2fi2bSxNi"
      },
      "source": [
        "!pip3 install ffmpeg-python"
      ],
      "execution_count": null,
      "outputs": []
    },
    {
      "cell_type": "markdown",
      "metadata": {
        "id": "B1hlZxatPhpA"
      },
      "source": [
        "# modified demo.py"
      ]
    },
    {
      "cell_type": "code",
      "metadata": {
        "id": "bN0GvZiKPZ2O"
      },
      "source": [
        "%%file /content/siam-mot/demos/demo.py\n",
        "\n",
        "import sys\n",
        "sys.path.append('/content/siam-mot/')\n",
        "\n",
        "import logging\n",
        "import argparse\n",
        "import os\n",
        "\n",
        "from demos.demo_inference import DemoInference\n",
        "from demos.utils.vis_generator import VisGenerator\n",
        "from demos.utils.vis_writer import VisWriter\n",
        "from demos.video_iterator import build_video_iterator\n",
        "\n",
        "parser = argparse.ArgumentParser(\" SiamMOT Inference Demo\")\n",
        "parser.add_argument('--demo-video', metavar=\"FILE\", type=str,\n",
        "                    required=True)\n",
        "parser.add_argument('--track-class', type=str, choices=('person', 'person_vehicle'),\n",
        "                    default='person_vehicle',\n",
        "                    help='Tracking person or person/vehicle jointly')\n",
        "parser.add_argument(\"--dump-video\", type=bool, default=True,\n",
        "                    help=\"Dump the videos as results\")\n",
        "parser.add_argument(\"--vis-resolution\", type=int, default=1080)\n",
        "parser.add_argument(\"--output-path\", type=str, default=None,\n",
        "                    help='The path of dumped videos')\n",
        "\n",
        "\n",
        "if __name__ == '__main__':\n",
        "    args = parser.parse_args()\n",
        "\n",
        "    logging.basicConfig(format='%(asctime)s,%(msecs)d %(levelname)-8s [%(filename)s:%(lineno)d] %(message)s',\n",
        "                        datefmt='%Y-%m-%d:%H:%M:%S',\n",
        "                        level=logging.INFO)\n",
        "\n",
        "    # Build visulization generator and writer\n",
        "    vis_generator = VisGenerator(vis_height=args.vis_resolution)\n",
        "    vis_writer = VisWriter(dump_video=args.dump_video,\n",
        "                           out_path=args.output_path,\n",
        "                           file_name=os.path.basename(args.demo_video))\n",
        "\n",
        "    # Build demo inference\n",
        "    tracker = DemoInference(track_class=args.track_class,\n",
        "                            vis_generator=vis_generator,\n",
        "                            vis_writer=vis_writer)\n",
        "\n",
        "    # Build video iterator for inference\n",
        "    video_reader = build_video_iterator(args.demo_video)\n",
        "\n",
        "    results = list(tracker.process_frame_sequence(video_reader()))\n",
        "\n",
        "    if args.dump_video:\n",
        "        vis_writer.close_video_writer()\n",
        "\n",
        "\n"
      ],
      "execution_count": null,
      "outputs": []
    },
    {
      "cell_type": "markdown",
      "metadata": {
        "id": "-0hfHgvIPmBV"
      },
      "source": [
        "# get video"
      ]
    },
    {
      "cell_type": "code",
      "metadata": {
        "id": "p5C1KGM_KONs"
      },
      "source": [
        "%cd  /content/siam-mot\n",
        "!mkdir -p demos/demo_vis\n",
        "!wget https://github.com/Lin1225/siam_mot_github/blob/main/person_car.mp4?raw=true\n",
        "!mv person_car.mp4?raw=true person_car.mp4"
      ],
      "execution_count": null,
      "outputs": []
    },
    {
      "cell_type": "markdown",
      "metadata": {
        "id": "gR9-XFdTlu4Y"
      },
      "source": [
        "# Run"
      ]
    },
    {
      "cell_type": "code",
      "metadata": {
        "id": "kwTNTwTZNIMf"
      },
      "source": [
        "!python3 demos/demo.py --demo-video \"./person_car.mp4\""
      ],
      "execution_count": null,
      "outputs": []
    }
  ]
}